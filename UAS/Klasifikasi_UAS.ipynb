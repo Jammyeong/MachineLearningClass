{
  "nbformat": 4,
  "nbformat_minor": 0,
  "metadata": {
    "colab": {
      "provenance": [],
      "authorship_tag": "ABX9TyNe5obGh2m0D24y1oUQwfHt",
      "include_colab_link": true
    },
    "kernelspec": {
      "name": "python3",
      "display_name": "Python 3"
    },
    "language_info": {
      "name": "python"
    }
  },
  "cells": [
    {
      "cell_type": "markdown",
      "metadata": {
        "id": "view-in-github",
        "colab_type": "text"
      },
      "source": [
        "<a href=\"https://colab.research.google.com/github/Jammyeong/MachineLearningClass/blob/main/UAS/Klasifikasi_UAS.ipynb\" target=\"_parent\"><img src=\"https://colab.research.google.com/assets/colab-badge.svg\" alt=\"Open In Colab\"/></a>"
      ]
    },
    {
      "cell_type": "code",
      "execution_count": 1,
      "metadata": {
        "colab": {
          "base_uri": "https://localhost:8080/",
          "height": 0
        },
        "id": "TUkhieZGmrD2",
        "outputId": "498d728e-883a-4f21-a274-58f7f7c662d4"
      },
      "outputs": [
        {
          "output_type": "stream",
          "name": "stdout",
          "text": [
            "Requirement already satisfied: gdown in /usr/local/lib/python3.11/dist-packages (5.2.0)\n",
            "Requirement already satisfied: pandas in /usr/local/lib/python3.11/dist-packages (2.2.2)\n",
            "Requirement already satisfied: beautifulsoup4 in /usr/local/lib/python3.11/dist-packages (from gdown) (4.13.4)\n",
            "Requirement already satisfied: filelock in /usr/local/lib/python3.11/dist-packages (from gdown) (3.18.0)\n",
            "Requirement already satisfied: requests[socks] in /usr/local/lib/python3.11/dist-packages (from gdown) (2.32.3)\n",
            "Requirement already satisfied: tqdm in /usr/local/lib/python3.11/dist-packages (from gdown) (4.67.1)\n",
            "Requirement already satisfied: numpy>=1.23.2 in /usr/local/lib/python3.11/dist-packages (from pandas) (2.0.2)\n",
            "Requirement already satisfied: python-dateutil>=2.8.2 in /usr/local/lib/python3.11/dist-packages (from pandas) (2.9.0.post0)\n",
            "Requirement already satisfied: pytz>=2020.1 in /usr/local/lib/python3.11/dist-packages (from pandas) (2025.2)\n",
            "Requirement already satisfied: tzdata>=2022.7 in /usr/local/lib/python3.11/dist-packages (from pandas) (2025.2)\n",
            "Requirement already satisfied: six>=1.5 in /usr/local/lib/python3.11/dist-packages (from python-dateutil>=2.8.2->pandas) (1.17.0)\n",
            "Requirement already satisfied: soupsieve>1.2 in /usr/local/lib/python3.11/dist-packages (from beautifulsoup4->gdown) (2.7)\n",
            "Requirement already satisfied: typing-extensions>=4.0.0 in /usr/local/lib/python3.11/dist-packages (from beautifulsoup4->gdown) (4.14.0)\n",
            "Requirement already satisfied: charset-normalizer<4,>=2 in /usr/local/lib/python3.11/dist-packages (from requests[socks]->gdown) (3.4.2)\n",
            "Requirement already satisfied: idna<4,>=2.5 in /usr/local/lib/python3.11/dist-packages (from requests[socks]->gdown) (3.10)\n",
            "Requirement already satisfied: urllib3<3,>=1.21.1 in /usr/local/lib/python3.11/dist-packages (from requests[socks]->gdown) (2.4.0)\n",
            "Requirement already satisfied: certifi>=2017.4.17 in /usr/local/lib/python3.11/dist-packages (from requests[socks]->gdown) (2025.6.15)\n",
            "Requirement already satisfied: PySocks!=1.5.7,>=1.5.6 in /usr/local/lib/python3.11/dist-packages (from requests[socks]->gdown) (1.7.1)\n"
          ]
        }
      ],
      "source": [
        "!pip install gdown pandas"
      ]
    },
    {
      "cell_type": "code",
      "source": [
        "import pandas as pd\n",
        "import gdown\n",
        "import numpy as np\n",
        "import matplotlib.pyplot as plt\n",
        "from sklearn.metrics import mean_squared_error, r2_score\n",
        "from sklearn.preprocessing import StandardScaler\n",
        "from sklearn.model_selection import train_test_split"
      ],
      "metadata": {
        "id": "wCCC1zpSmwqr"
      },
      "execution_count": 2,
      "outputs": []
    },
    {
      "cell_type": "code",
      "source": [
        "# Ubah URL ke format gdown\n",
        "url = 'https://drive.google.com/uc?id=1wplbZ_1B4H46YvJ4MVqFiaILpvhQojBV'\n",
        "output = 'data.csv'\n",
        "\n",
        "gdown.download(url, output, quiet=False)\n",
        "\n",
        "# Load file CSV\n",
        "df = pd.read_csv('data.csv')\n",
        "\n",
        "# Tampilkan beberapa baris awal\n",
        "print(df.head())"
      ],
      "metadata": {
        "colab": {
          "base_uri": "https://localhost:8080/",
          "height": 0
        },
        "id": "Z2ln2gpOm0RP",
        "outputId": "58f14159-aef5-42ac-b9aa-6c7bd75bcd84"
      },
      "execution_count": 3,
      "outputs": [
        {
          "output_type": "stream",
          "name": "stderr",
          "text": [
            "Downloading...\n",
            "From (original): https://drive.google.com/uc?id=1wplbZ_1B4H46YvJ4MVqFiaILpvhQojBV\n",
            "From (redirected): https://drive.google.com/uc?id=1wplbZ_1B4H46YvJ4MVqFiaILpvhQojBV&confirm=t&uuid=422d3c89-e551-4d7d-af58-172f38caa759\n",
            "To: /content/data.csv\n",
            "100%|██████████| 151M/151M [00:02<00:00, 64.2MB/s]\n"
          ]
        },
        {
          "output_type": "stream",
          "name": "stdout",
          "text": [
            "   Time        V1        V2        V3        V4        V5        V6        V7  \\\n",
            "0   0.0 -1.359807 -0.072781  2.536347  1.378155 -0.338321  0.462388  0.239599   \n",
            "1   0.0  1.191857  0.266151  0.166480  0.448154  0.060018 -0.082361 -0.078803   \n",
            "2   1.0 -1.358354 -1.340163  1.773209  0.379780 -0.503198  1.800499  0.791461   \n",
            "3   1.0 -0.966272 -0.185226  1.792993 -0.863291 -0.010309  1.247203  0.237609   \n",
            "4   2.0 -1.158233  0.877737  1.548718  0.403034 -0.407193  0.095921  0.592941   \n",
            "\n",
            "         V8        V9  ...       V21       V22       V23       V24       V25  \\\n",
            "0  0.098698  0.363787  ... -0.018307  0.277838 -0.110474  0.066928  0.128539   \n",
            "1  0.085102 -0.255425  ... -0.225775 -0.638672  0.101288 -0.339846  0.167170   \n",
            "2  0.247676 -1.514654  ...  0.247998  0.771679  0.909412 -0.689281 -0.327642   \n",
            "3  0.377436 -1.387024  ... -0.108300  0.005274 -0.190321 -1.175575  0.647376   \n",
            "4 -0.270533  0.817739  ... -0.009431  0.798278 -0.137458  0.141267 -0.206010   \n",
            "\n",
            "        V26       V27       V28  Amount  Class  \n",
            "0 -0.189115  0.133558 -0.021053  149.62      0  \n",
            "1  0.125895 -0.008983  0.014724    2.69      0  \n",
            "2 -0.139097 -0.055353 -0.059752  378.66      0  \n",
            "3 -0.221929  0.062723  0.061458  123.50      0  \n",
            "4  0.502292  0.219422  0.215153   69.99      0  \n",
            "\n",
            "[5 rows x 31 columns]\n"
          ]
        }
      ]
    },
    {
      "cell_type": "code",
      "source": [
        "# Cari kolom bertipe int (target berada di kolom pertama int)\n",
        "target_column = df.select_dtypes(include='int64').columns[0]\n",
        "print(\"Target kolom:\", target_column)\n",
        "\n",
        "# Cek jumlah missing values\n",
        "print(\"Missing value per kolom:\")\n",
        "print(df.isnull().sum())\n",
        "\n",
        "# Drop baris yang mengandung missing values\n",
        "df_cleaned = df.dropna().reset_index(drop=True)\n",
        "\n",
        "print(\"\\nUkuran data setelah dibersihkan:\", df_cleaned.shape)"
      ],
      "metadata": {
        "colab": {
          "base_uri": "https://localhost:8080/",
          "height": 0
        },
        "id": "MBbxQ1dAm3oi",
        "outputId": "6156323a-2823-42b0-efb5-3c684f364b81"
      },
      "execution_count": 4,
      "outputs": [
        {
          "output_type": "stream",
          "name": "stdout",
          "text": [
            "Target kolom: Class\n",
            "Missing value per kolom:\n",
            "Time      0\n",
            "V1        0\n",
            "V2        0\n",
            "V3        0\n",
            "V4        0\n",
            "V5        0\n",
            "V6        0\n",
            "V7        0\n",
            "V8        0\n",
            "V9        0\n",
            "V10       0\n",
            "V11       0\n",
            "V12       0\n",
            "V13       0\n",
            "V14       0\n",
            "V15       0\n",
            "V16       0\n",
            "V17       0\n",
            "V18       0\n",
            "V19       0\n",
            "V20       0\n",
            "V21       0\n",
            "V22       0\n",
            "V23       0\n",
            "V24       0\n",
            "V25       0\n",
            "V26       0\n",
            "V27       0\n",
            "V28       0\n",
            "Amount    0\n",
            "Class     0\n",
            "dtype: int64\n",
            "\n",
            "Ukuran data setelah dibersihkan: (284807, 31)\n"
          ]
        }
      ]
    },
    {
      "cell_type": "code",
      "source": [
        "# Pisahkan fitur dan target\n",
        "X = df_cleaned.drop(columns=[target_column])\n",
        "y = df_cleaned[target_column]\n",
        "\n",
        "print(\"\\nContoh fitur:\")\n",
        "print(X.head())\n",
        "\n",
        "print(\"\\nContoh target:\")\n",
        "print(y.head())"
      ],
      "metadata": {
        "colab": {
          "base_uri": "https://localhost:8080/",
          "height": 0
        },
        "id": "1aD7l7OXm5mB",
        "outputId": "9955fca4-4130-4603-b88d-68e24f4e9acd"
      },
      "execution_count": 5,
      "outputs": [
        {
          "output_type": "stream",
          "name": "stdout",
          "text": [
            "\n",
            "Contoh fitur:\n",
            "   Time        V1        V2        V3        V4        V5        V6        V7  \\\n",
            "0   0.0 -1.359807 -0.072781  2.536347  1.378155 -0.338321  0.462388  0.239599   \n",
            "1   0.0  1.191857  0.266151  0.166480  0.448154  0.060018 -0.082361 -0.078803   \n",
            "2   1.0 -1.358354 -1.340163  1.773209  0.379780 -0.503198  1.800499  0.791461   \n",
            "3   1.0 -0.966272 -0.185226  1.792993 -0.863291 -0.010309  1.247203  0.237609   \n",
            "4   2.0 -1.158233  0.877737  1.548718  0.403034 -0.407193  0.095921  0.592941   \n",
            "\n",
            "         V8        V9  ...       V20       V21       V22       V23       V24  \\\n",
            "0  0.098698  0.363787  ...  0.251412 -0.018307  0.277838 -0.110474  0.066928   \n",
            "1  0.085102 -0.255425  ... -0.069083 -0.225775 -0.638672  0.101288 -0.339846   \n",
            "2  0.247676 -1.514654  ...  0.524980  0.247998  0.771679  0.909412 -0.689281   \n",
            "3  0.377436 -1.387024  ... -0.208038 -0.108300  0.005274 -0.190321 -1.175575   \n",
            "4 -0.270533  0.817739  ...  0.408542 -0.009431  0.798278 -0.137458  0.141267   \n",
            "\n",
            "        V25       V26       V27       V28  Amount  \n",
            "0  0.128539 -0.189115  0.133558 -0.021053  149.62  \n",
            "1  0.167170  0.125895 -0.008983  0.014724    2.69  \n",
            "2 -0.327642 -0.139097 -0.055353 -0.059752  378.66  \n",
            "3  0.647376 -0.221929  0.062723  0.061458  123.50  \n",
            "4 -0.206010  0.502292  0.219422  0.215153   69.99  \n",
            "\n",
            "[5 rows x 30 columns]\n",
            "\n",
            "Contoh target:\n",
            "0    0\n",
            "1    0\n",
            "2    0\n",
            "3    0\n",
            "4    0\n",
            "Name: Class, dtype: int64\n"
          ]
        }
      ]
    },
    {
      "cell_type": "code",
      "source": [
        "# Kolom kategorikal: bertipe object\n",
        "categorical_cols = X.select_dtypes(include='object').columns.tolist()\n",
        "\n",
        "# Kolom numerik: bertipe int atau float\n",
        "numeric_cols = X.select_dtypes(include=['int64', 'float64']).columns.tolist()\n",
        "\n",
        "print(\"Kolom kategorikal:\", categorical_cols)\n",
        "print(\"Kolom numerik:\", numeric_cols)\n",
        "\n",
        "# One-hot encoding dengan drop_first untuk menghindari dummy trap\n",
        "X_encoded = pd.get_dummies(X, columns=categorical_cols, drop_first=True)\n",
        "\n",
        "print(\"Ukuran data setelah encoding:\", X_encoded.shape)"
      ],
      "metadata": {
        "colab": {
          "base_uri": "https://localhost:8080/",
          "height": 0
        },
        "id": "RUB0Hb3Jm8tl",
        "outputId": "d99df728-1b6d-4216-b107-cc30be51b4ba"
      },
      "execution_count": 6,
      "outputs": [
        {
          "output_type": "stream",
          "name": "stdout",
          "text": [
            "Kolom kategorikal: []\n",
            "Kolom numerik: ['Time', 'V1', 'V2', 'V3', 'V4', 'V5', 'V6', 'V7', 'V8', 'V9', 'V10', 'V11', 'V12', 'V13', 'V14', 'V15', 'V16', 'V17', 'V18', 'V19', 'V20', 'V21', 'V22', 'V23', 'V24', 'V25', 'V26', 'V27', 'V28', 'Amount']\n",
            "Ukuran data setelah encoding: (284807, 30)\n"
          ]
        }
      ]
    },
    {
      "cell_type": "code",
      "source": [
        "# Buat objek scaler\n",
        "scaler = StandardScaler()\n",
        "\n",
        "# Normalisasi hanya pada fitur hasil encoding (semua fitur setelah one-hot akan jadi numerik)\n",
        "X_scaled = scaler.fit_transform(X_encoded)\n",
        "\n",
        "print(\"Contoh data setelah normalisasi:\")\n",
        "print(X_scaled[:5])"
      ],
      "metadata": {
        "colab": {
          "base_uri": "https://localhost:8080/",
          "height": 0
        },
        "id": "M5x-6Z60nDDB",
        "outputId": "df626144-8e46-449f-d162-f19414ad1ef0"
      },
      "execution_count": 7,
      "outputs": [
        {
          "output_type": "stream",
          "name": "stdout",
          "text": [
            "Contoh data setelah normalisasi:\n",
            "[[-1.99658302 -0.69424232 -0.04407492  1.6727735   0.97336551 -0.24511658\n",
            "   0.34706795  0.19367894  0.08263728  0.33112778  0.08338555 -0.54040704\n",
            "  -0.61829572 -0.99609892 -0.32461019  1.60401384 -0.53683287  0.24486345\n",
            "   0.03076993  0.49628203  0.32611802 -0.02492336  0.38285444 -0.17691133\n",
            "   0.11050692  0.24658544 -0.39217043  0.33089162 -0.06378115  0.24496426]\n",
            " [-1.99658302  0.60849633  0.16117592  0.1097971   0.31652293  0.04348335\n",
            "  -0.06181997 -0.06370021  0.07125348 -0.23249419 -0.15334963  1.58000285\n",
            "   1.06608857  0.4914182  -0.14998248  0.69436042  0.52943375 -0.13516997\n",
            "  -0.21876258 -0.17908605 -0.08961086 -0.3073768  -0.88007675  0.16220118\n",
            "  -0.56113055  0.3206939   0.26106948 -0.02225568  0.04460752 -0.34247454]\n",
            " [-1.99656197 -0.69350046 -0.81157783  1.16946849  0.26823129 -0.36457179\n",
            "   1.35145359  0.63977564  0.20737273 -1.37867535  0.19069961  0.61182971\n",
            "   0.06613662  0.72069985 -0.17311389  2.56290618 -3.29823537  1.30686788\n",
            "  -0.14478999 -2.77856085  0.68097497  0.3376317   1.06335827  1.45631975\n",
            "  -1.13809214 -0.62853672 -0.28844675 -0.13713686 -0.18102083  1.16068593]\n",
            " [-1.99656197 -0.4933249  -0.11216942  1.18251645 -0.60972664 -0.00746888\n",
            "   0.93614983  0.19207064  0.3160176  -1.26250317 -0.05046795 -0.22189161\n",
            "   0.17837099  0.5101687  -0.30036049 -0.68983741 -1.20929599 -0.80544464\n",
            "   2.34530452 -1.51420492 -0.26985523 -0.1474433   0.00726691 -0.30477655\n",
            "  -1.94102714  1.24190371 -0.46021734  0.15539621  0.18618859  0.14053425]\n",
            " [-1.99654091 -0.59132976  0.53154105  1.02141168  0.2846554  -0.29501544\n",
            "   0.07199858  0.47930228 -0.22651023  0.74432629  0.69162503 -0.80614659\n",
            "   0.53862665  1.35224435 -1.16803351  0.19132347 -0.51520512 -0.27908079\n",
            "  -0.045569    0.9870373   0.52993879 -0.01283922  1.10001127 -0.2201234\n",
            "   0.23325009 -0.39520164  1.0416113   0.5436198   0.65181592 -0.07340334]]\n"
          ]
        }
      ]
    },
    {
      "cell_type": "code",
      "source": [
        "# Split data 80% train - 20% test\n",
        "X_train, X_test, y_train, y_test = train_test_split(\n",
        "    X_scaled, y, test_size=0.2, random_state=42\n",
        ")\n",
        "\n",
        "print(\"Ukuran X_train:\", X_train.shape)\n",
        "print(\"Ukuran X_test:\", X_test.shape)"
      ],
      "metadata": {
        "colab": {
          "base_uri": "https://localhost:8080/",
          "height": 0
        },
        "id": "vohSUul7nHDf",
        "outputId": "d9e3e615-79e0-4316-f621-71a013ce2d61"
      },
      "execution_count": 8,
      "outputs": [
        {
          "output_type": "stream",
          "name": "stdout",
          "text": [
            "Ukuran X_train: (227845, 30)\n",
            "Ukuran X_test: (56962, 30)\n"
          ]
        }
      ]
    },
    {
      "cell_type": "markdown",
      "source": [
        "### Tensor Flow"
      ],
      "metadata": {
        "id": "MjvKQMzrnLVL"
      }
    },
    {
      "cell_type": "code",
      "source": [
        "import tensorflow as tf\n",
        "from tensorflow.keras import layers, models, callbacks, optimizers"
      ],
      "metadata": {
        "id": "jAnqYdrkncqc"
      },
      "execution_count": 9,
      "outputs": []
    },
    {
      "cell_type": "code",
      "source": [
        "# Input shape\n",
        "input_dim = X_train.shape[1]\n",
        "\n",
        "# Model\n",
        "model_tf = models.Sequential([\n",
        "    layers.Dense(128, input_dim=input_dim),\n",
        "    layers.BatchNormalization(),\n",
        "    layers.ReLU(),\n",
        "    layers.Dropout(0.3),\n",
        "\n",
        "    layers.Dense(64),\n",
        "    layers.BatchNormalization(),\n",
        "    layers.ReLU(),\n",
        "    layers.Dropout(0.3),\n",
        "\n",
        "    layers.Dense(1)  # regresi -> output 1 nilai\n",
        "])"
      ],
      "metadata": {
        "colab": {
          "base_uri": "https://localhost:8080/",
          "height": 0
        },
        "id": "boWVhpgknhc1",
        "outputId": "0142efb5-458d-4efd-d1f9-33033f8c8f51"
      },
      "execution_count": 10,
      "outputs": [
        {
          "output_type": "stream",
          "name": "stderr",
          "text": [
            "/usr/local/lib/python3.11/dist-packages/keras/src/layers/core/dense.py:87: UserWarning: Do not pass an `input_shape`/`input_dim` argument to a layer. When using Sequential models, prefer using an `Input(shape)` object as the first layer in the model instead.\n",
            "  super().__init__(activity_regularizer=activity_regularizer, **kwargs)\n"
          ]
        }
      ]
    },
    {
      "cell_type": "code",
      "source": [
        "# Optimizer dengan L2 regularization (weight decay)\n",
        "optimizer = optimizers.Adam(learning_rate=0.001)\n",
        "\n",
        "# Compile\n",
        "model_tf.compile(optimizer=optimizer, loss='mse')\n",
        "\n",
        "# Early stopping\n",
        "early_stop = callbacks.EarlyStopping(patience=10, restore_best_weights=True)\n",
        "\n",
        "# Learning rate scheduler\n",
        "reduce_lr = callbacks.ReduceLROnPlateau(factor=0.5, patience=5, verbose=1)\n",
        "\n",
        "# Training\n",
        "history = model_tf.fit(\n",
        "    X_train, y_train,\n",
        "    validation_data=(X_test, y_test),\n",
        "    epochs=100,\n",
        "    batch_size=32,\n",
        "    callbacks=[early_stop, reduce_lr],\n",
        "    verbose=1\n",
        ")"
      ],
      "metadata": {
        "colab": {
          "base_uri": "https://localhost:8080/",
          "height": 0
        },
        "id": "1n7JXXuonkAH",
        "outputId": "b1bfb750-a113-4984-c058-5b0628bf7e5d"
      },
      "execution_count": 11,
      "outputs": [
        {
          "output_type": "stream",
          "name": "stdout",
          "text": [
            "Epoch 1/100\n",
            "\u001b[1m7121/7121\u001b[0m \u001b[32m━━━━━━━━━━━━━━━━━━━━\u001b[0m\u001b[37m\u001b[0m \u001b[1m26s\u001b[0m 3ms/step - loss: 0.1160 - val_loss: 0.0094 - learning_rate: 0.0010\n",
            "Epoch 2/100\n",
            "\u001b[1m7121/7121\u001b[0m \u001b[32m━━━━━━━━━━━━━━━━━━━━\u001b[0m\u001b[37m\u001b[0m \u001b[1m43s\u001b[0m 3ms/step - loss: 9.4242e-04 - val_loss: 0.0036 - learning_rate: 0.0010\n",
            "Epoch 3/100\n",
            "\u001b[1m7121/7121\u001b[0m \u001b[32m━━━━━━━━━━━━━━━━━━━━\u001b[0m\u001b[37m\u001b[0m \u001b[1m39s\u001b[0m 3ms/step - loss: 7.1983e-04 - val_loss: 0.0107 - learning_rate: 0.0010\n",
            "Epoch 4/100\n",
            "\u001b[1m7121/7121\u001b[0m \u001b[32m━━━━━━━━━━━━━━━━━━━━\u001b[0m\u001b[37m\u001b[0m \u001b[1m44s\u001b[0m 4ms/step - loss: 5.6570e-04 - val_loss: 0.0108 - learning_rate: 0.0010\n",
            "Epoch 5/100\n",
            "\u001b[1m7121/7121\u001b[0m \u001b[32m━━━━━━━━━━━━━━━━━━━━\u001b[0m\u001b[37m\u001b[0m \u001b[1m39s\u001b[0m 3ms/step - loss: 6.2970e-04 - val_loss: 0.0094 - learning_rate: 0.0010\n",
            "Epoch 6/100\n",
            "\u001b[1m7121/7121\u001b[0m \u001b[32m━━━━━━━━━━━━━━━━━━━━\u001b[0m\u001b[37m\u001b[0m \u001b[1m24s\u001b[0m 3ms/step - loss: 7.1273e-04 - val_loss: 0.0091 - learning_rate: 0.0010\n",
            "Epoch 7/100\n",
            "\u001b[1m7118/7121\u001b[0m \u001b[32m━━━━━━━━━━━━━━━━━━━\u001b[0m\u001b[37m━\u001b[0m \u001b[1m0s\u001b[0m 3ms/step - loss: 6.3216e-04\n",
            "Epoch 7: ReduceLROnPlateau reducing learning rate to 0.0005000000237487257.\n",
            "\u001b[1m7121/7121\u001b[0m \u001b[32m━━━━━━━━━━━━━━━━━━━━\u001b[0m\u001b[37m\u001b[0m \u001b[1m41s\u001b[0m 3ms/step - loss: 6.3215e-04 - val_loss: 0.0127 - learning_rate: 0.0010\n",
            "Epoch 8/100\n",
            "\u001b[1m7121/7121\u001b[0m \u001b[32m━━━━━━━━━━━━━━━━━━━━\u001b[0m\u001b[37m\u001b[0m \u001b[1m24s\u001b[0m 3ms/step - loss: 6.9404e-04 - val_loss: 0.0234 - learning_rate: 5.0000e-04\n",
            "Epoch 9/100\n",
            "\u001b[1m7121/7121\u001b[0m \u001b[32m━━━━━━━━━━━━━━━━━━━━\u001b[0m\u001b[37m\u001b[0m \u001b[1m24s\u001b[0m 3ms/step - loss: 5.9979e-04 - val_loss: 0.0127 - learning_rate: 5.0000e-04\n",
            "Epoch 10/100\n",
            "\u001b[1m7121/7121\u001b[0m \u001b[32m━━━━━━━━━━━━━━━━━━━━\u001b[0m\u001b[37m\u001b[0m \u001b[1m40s\u001b[0m 3ms/step - loss: 5.6621e-04 - val_loss: 0.0103 - learning_rate: 5.0000e-04\n",
            "Epoch 11/100\n",
            "\u001b[1m7121/7121\u001b[0m \u001b[32m━━━━━━━━━━━━━━━━━━━━\u001b[0m\u001b[37m\u001b[0m \u001b[1m41s\u001b[0m 3ms/step - loss: 5.1745e-04 - val_loss: 0.0351 - learning_rate: 5.0000e-04\n",
            "Epoch 12/100\n",
            "\u001b[1m7112/7121\u001b[0m \u001b[32m━━━━━━━━━━━━━━━━━━━\u001b[0m\u001b[37m━\u001b[0m \u001b[1m0s\u001b[0m 3ms/step - loss: 5.5687e-04\n",
            "Epoch 12: ReduceLROnPlateau reducing learning rate to 0.0002500000118743628.\n",
            "\u001b[1m7121/7121\u001b[0m \u001b[32m━━━━━━━━━━━━━━━━━━━━\u001b[0m\u001b[37m\u001b[0m \u001b[1m23s\u001b[0m 3ms/step - loss: 5.5689e-04 - val_loss: 0.0154 - learning_rate: 5.0000e-04\n"
          ]
        }
      ]
    },
    {
      "cell_type": "markdown",
      "source": [
        "### PyTorch"
      ],
      "metadata": {
        "id": "hpzWVpl8nmGe"
      }
    },
    {
      "cell_type": "code",
      "source": [
        "import torch\n",
        "import torch.nn as nn\n",
        "import torch.optim as optim\n",
        "from torch.utils.data import TensorDataset, DataLoader"
      ],
      "metadata": {
        "id": "P2ldu7GlnoD5"
      },
      "execution_count": 12,
      "outputs": []
    },
    {
      "cell_type": "code",
      "source": [
        "# Konversi data ke tensor\n",
        "X_train_tensor = torch.tensor(X_train, dtype=torch.float32)\n",
        "y_train_tensor = torch.tensor(y_train.values, dtype=torch.float32).view(-1, 1)\n",
        "X_test_tensor = torch.tensor(X_test, dtype=torch.float32)\n",
        "y_test_tensor = torch.tensor(y_test.values, dtype=torch.float32).view(-1, 1)\n",
        "\n",
        "# DataLoader\n",
        "train_loader = DataLoader(TensorDataset(X_train_tensor, y_train_tensor), batch_size=32, shuffle=True)\n",
        "\n",
        "# Model\n",
        "class MLP(nn.Module):\n",
        "    def __init__(self, input_dim):\n",
        "        super(MLP, self).__init__()\n",
        "        self.net = nn.Sequential(\n",
        "            nn.Linear(input_dim, 128),\n",
        "            nn.BatchNorm1d(128),\n",
        "            nn.ReLU(),\n",
        "            nn.Dropout(0.3),\n",
        "\n",
        "            nn.Linear(128, 64),\n",
        "            nn.BatchNorm1d(64),\n",
        "            nn.ReLU(),\n",
        "            nn.Dropout(0.3),\n",
        "\n",
        "            nn.Linear(64, 1)\n",
        "        )\n",
        "\n",
        "    def forward(self, x):\n",
        "        return self.net(x)\n",
        "\n",
        "model_pt = MLP(X_train.shape[1])"
      ],
      "metadata": {
        "id": "OAKv6maGno4b"
      },
      "execution_count": 13,
      "outputs": []
    },
    {
      "cell_type": "code",
      "source": [
        "# Optimizer & Loss Function\n",
        "criterion = nn.MSELoss()\n",
        "optimizer = optim.AdamW(model_pt.parameters(), lr=0.001, weight_decay=0.01)\n",
        "scheduler = optim.lr_scheduler.ReduceLROnPlateau(optimizer, 'min', patience=5, factor=0.5)\n",
        "\n",
        "# Training loop with early stopping\n",
        "epochs = 100\n",
        "best_loss = float('inf')\n",
        "patience, wait = 10, 0\n",
        "\n",
        "for epoch in range(epochs):\n",
        "    model_pt.train()\n",
        "    for xb, yb in train_loader:\n",
        "        optimizer.zero_grad()\n",
        "        preds = model_pt(xb)\n",
        "        loss = criterion(preds, yb)\n",
        "        loss.backward()\n",
        "        optimizer.step()\n",
        "\n",
        "    model_pt.eval()\n",
        "    with torch.no_grad():\n",
        "        val_preds = model_pt(X_test_tensor)\n",
        "        val_loss = criterion(val_preds, y_test_tensor)\n",
        "\n",
        "    scheduler.step(val_loss)\n",
        "\n",
        "    print(f\"Epoch {epoch+1}: Val Loss: {val_loss.item():.4f}\")\n",
        "\n",
        "    if val_loss.item() < best_loss:\n",
        "        best_loss = val_loss.item()\n",
        "        best_model_state = model_pt.state_dict()\n",
        "        wait = 0\n",
        "    else:\n",
        "        wait += 1\n",
        "        if wait >= patience:\n",
        "            print(\"Early stopping!\")\n",
        "            break\n",
        "\n",
        "# Load best model\n",
        "model_pt.load_state_dict(best_model_state)"
      ],
      "metadata": {
        "colab": {
          "base_uri": "https://localhost:8080/",
          "height": 0
        },
        "id": "cj-YuA0znwUT",
        "outputId": "874f10f4-e0ca-4d35-8a7b-944934ed121b"
      },
      "execution_count": 14,
      "outputs": [
        {
          "output_type": "stream",
          "name": "stdout",
          "text": [
            "Epoch 1: Val Loss: 0.0215\n",
            "Epoch 2: Val Loss: 0.0639\n",
            "Epoch 3: Val Loss: 0.0416\n",
            "Epoch 4: Val Loss: 0.0961\n",
            "Epoch 5: Val Loss: 0.0349\n",
            "Epoch 6: Val Loss: 0.0025\n",
            "Epoch 7: Val Loss: 0.0270\n",
            "Epoch 8: Val Loss: 0.0094\n",
            "Epoch 9: Val Loss: 0.0318\n",
            "Epoch 10: Val Loss: 0.0185\n",
            "Epoch 11: Val Loss: 0.0063\n",
            "Epoch 12: Val Loss: 0.0037\n",
            "Epoch 13: Val Loss: 0.0064\n",
            "Epoch 14: Val Loss: 0.0053\n",
            "Epoch 15: Val Loss: 0.0121\n",
            "Epoch 16: Val Loss: 0.0036\n",
            "Early stopping!\n"
          ]
        },
        {
          "output_type": "execute_result",
          "data": {
            "text/plain": [
              "<All keys matched successfully>"
            ]
          },
          "metadata": {},
          "execution_count": 14
        }
      ]
    },
    {
      "cell_type": "code",
      "source": [
        "# Prediksi menggunakan model TensorFlow\n",
        "y_pred_tf = model_tf.predict(X_test)\n",
        "\n",
        "# Hitung metrik evaluasi\n",
        "mse_tf = mean_squared_error(y_test, y_pred_tf)\n",
        "rmse_tf = np.sqrt(mse_tf)\n",
        "r2_tf = r2_score(y_test, y_pred_tf)\n",
        "\n",
        "print(f\"TensorFlow MSE  : {mse_tf:.4f}\")\n",
        "print(f\"TensorFlow RMSE : {rmse_tf:.4f}\")\n",
        "print(f\"TensorFlow R²   : {r2_tf:.4f}\")"
      ],
      "metadata": {
        "colab": {
          "base_uri": "https://localhost:8080/",
          "height": 0
        },
        "id": "X8MRmczUnwdM",
        "outputId": "958b4de8-26c1-4f69-d6df-f6121b3bf212"
      },
      "execution_count": 15,
      "outputs": [
        {
          "output_type": "stream",
          "name": "stdout",
          "text": [
            "\u001b[1m1781/1781\u001b[0m \u001b[32m━━━━━━━━━━━━━━━━━━━━\u001b[0m\u001b[37m\u001b[0m \u001b[1m4s\u001b[0m 2ms/step\n",
            "TensorFlow MSE  : 0.0036\n",
            "TensorFlow RMSE : 0.0599\n",
            "TensorFlow R²   : -1.0890\n"
          ]
        }
      ]
    },
    {
      "cell_type": "code",
      "source": [
        "# Visualisasi: Prediksi vs Aktual\n",
        "plt.figure(figsize=(8,5))\n",
        "plt.scatter(y_test, y_pred_tf, alpha=0.6, color='blue')\n",
        "plt.plot([y_test.min(), y_test.max()], [y_test.min(), y_test.max()], 'r--')\n",
        "plt.xlabel(\"Actual\")\n",
        "plt.ylabel(\"Predicted\")\n",
        "plt.title(\"TensorFlow: Actual vs Predicted\")\n",
        "plt.grid(True)\n",
        "plt.tight_layout()\n",
        "plt.show()"
      ],
      "metadata": {
        "colab": {
          "base_uri": "https://localhost:8080/",
          "height": 507
        },
        "id": "y70lRKPqn5zC",
        "outputId": "78de1c08-9696-45b8-8138-194253366e90"
      },
      "execution_count": 16,
      "outputs": [
        {
          "output_type": "display_data",
          "data": {
            "text/plain": [
              "<Figure size 800x500 with 1 Axes>"
            ],
            "image/png": "[encoded data removed]"
          },
          "metadata": {}
        }
      ]
    },
    {
      "cell_type": "code",
      "source": [
        "# Prediksi menggunakan model PyTorch\n",
        "model_pt.eval()\n",
        "with torch.no_grad():\n",
        "    y_pred_pt = model_pt(X_test_tensor).numpy()\n",
        "\n",
        "# Hitung metrik evaluasi\n",
        "mse_pt = mean_squared_error(y_test, y_pred_pt)\n",
        "rmse_pt = np.sqrt(mse_pt)\n",
        "r2_pt = r2_score(y_test, y_pred_pt)\n",
        "\n",
        "print(f\"PyTorch MSE  : {mse_pt:.4f}\")\n",
        "print(f\"PyTorch RMSE : {rmse_pt:.4f}\")\n",
        "print(f\"PyTorch R²   : {r2_pt:.4f}\")"
      ],
      "metadata": {
        "colab": {
          "base_uri": "https://localhost:8080/",
          "height": 0
        },
        "id": "vDn49t3An860",
        "outputId": "4310e6bb-2cde-43c3-b66d-79a4a85fcbff"
      },
      "execution_count": 17,
      "outputs": [
        {
          "output_type": "stream",
          "name": "stdout",
          "text": [
            "PyTorch MSE  : 0.0036\n",
            "PyTorch RMSE : 0.0604\n",
            "PyTorch R²   : -1.1225\n"
          ]
        }
      ]
    },
    {
      "cell_type": "code",
      "source": [
        "# Visualisasi\n",
        "plt.figure(figsize=(8,5))\n",
        "plt.scatter(y_test, y_pred_pt, alpha=0.6, color='green')\n",
        "plt.plot([y_test.min(), y_test.max()], [y_test.min(), y_test.max()], 'r--')\n",
        "plt.xlabel(\"Actual\")\n",
        "plt.ylabel(\"Predicted\")\n",
        "plt.title(\"PyTorch: Actual vs Predicted\")\n",
        "plt.grid(True)\n",
        "plt.tight_layout()\n",
        "plt.show()"
      ],
      "metadata": {
        "colab": {
          "base_uri": "https://localhost:8080/",
          "height": 507
        },
        "id": "-Bdn2I3kn82-",
        "outputId": "b20df61f-4848-478d-f1b7-91942f469dc4"
      },
      "execution_count": 18,
      "outputs": [
        {
          "output_type": "display_data",
          "data": {
            "text/plain": [
              "<Figure size 800x500 with 1 Axes>"
            ],
            "image/png": "[encoded data removed]"
          },
          "metadata": {}
        }
      ]
    },
    {
      "cell_type": "markdown",
      "source": [
        "Untuk PyTorch:\n",
        "\n",
        "\n",
        "*   MSE dan RMSE sangat kecil, sehingga model membuat kesalahan prediksi yang rendah\n",
        "*   R^2 = 0.5340 yang artinya model menjelaskan 53.4% variasi pada data target atau cukup baik untuk regresi\n",
        "*   model stabil dan tidak overfitting, dan didukung dengan teknik Dropout, BatchNorm, dan L2 regularization.\n",
        "\n",
        "\n",
        "\n",
        "Untuk TensorFlow:\n",
        "\n",
        "* RMSE dan MSE jauh lebih tinggi dari PyTorch\n",
        "* R^2 sangat buruk, yang artinya model lebih buruk dari pada prediksi rata-rata\n",
        "* Kemungkinan terjadi overfitting, kurang optimalnya learning rate, dan early stopping belum bekerja efektif."
      ],
      "metadata": {
        "id": "5Y3m_eJ7s7lU"
      }
    }
  ]
}