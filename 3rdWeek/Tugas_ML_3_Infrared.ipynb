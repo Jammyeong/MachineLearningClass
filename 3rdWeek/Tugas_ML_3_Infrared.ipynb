{
  "nbformat": 4,
  "nbformat_minor": 0,
  "metadata": {
    "colab": {
      "provenance": [],
      "mount_file_id": "1SNtbv77cisG8xMoUAnhkEvJtPTWcbb8t",
      "authorship_tag": "ABX9TyPOOrxXCkDp3qdyZtOEsoLu",
      "include_colab_link": true
    },
    "kernelspec": {
      "name": "python3",
      "display_name": "Python 3"
    },
    "language_info": {
      "name": "python"
    }
  },
  "cells": [
    {
      "cell_type": "markdown",
      "metadata": {
        "id": "view-in-github",
        "colab_type": "text"
      },
      "source": [
        "<a href=\"https://colab.research.google.com/github/Jammyeong/MachineLearningClass/blob/main/3rdWeek/Tugas_ML_3_Infrared.ipynb\" target=\"_parent\"><img src=\"https://colab.research.google.com/assets/colab-badge.svg\" alt=\"Open In Colab\"/></a>"
      ]
    },
    {
      "cell_type": "code",
      "execution_count": 1,
      "metadata": {
        "id": "V0e8weZXVmiX"
      },
      "outputs": [],
      "source": [
        "import pandas as pd\n",
        "import numpy as np\n",
        "from sklearn.model_selection import train_test_split\n",
        "from sklearn.preprocessing import LabelEncoder\n",
        "from sklearn.impute import SimpleImputer\n",
        "from sklearn.neighbors import KNeighborsRegressor\n",
        "from sklearn.tree import DecisionTreeRegressor\n",
        "from sklearn.metrics import mean_squared_error, r2_score"
      ]
    },
    {
      "cell_type": "code",
      "source": [
        "# Load dataset\n",
        "df = pd.read_csv('/content/drive/MyDrive/smt akhir/ml/Infrared.csv')"
      ],
      "metadata": {
        "id": "2dMAYdxDZQ2h"
      },
      "execution_count": 2,
      "outputs": []
    },
    {
      "cell_type": "code",
      "source": [
        "# Encode kategorikal\n",
        "df_encoded = df.copy()\n",
        "le = LabelEncoder()\n",
        "for col in ['Gender', 'Age', 'Ethnicity']:\n",
        "    df_encoded[col] = le.fit_transform(df_encoded[col])\n",
        "\n",
        "# Imputasi missing value pada kolom Distance\n",
        "df_encoded['Distance'] = df_encoded['Distance'].fillna(df_encoded['Distance'].median())"
      ],
      "metadata": {
        "id": "x3AlMkp3ZS0o"
      },
      "execution_count": 3,
      "outputs": []
    },
    {
      "cell_type": "code",
      "source": [
        "# Split fitur dan target\n",
        "X = df_encoded.drop('aveOralM', axis=1)\n",
        "y = df_encoded['aveOralM']\n",
        "X_train, X_test, y_train, y_test = train_test_split(X, y, test_size=0.2, random_state=42)\n",
        "\n",
        "# K-NN Model\n",
        "knn = KNeighborsRegressor()\n",
        "knn.fit(X_train, y_train)\n",
        "y_pred_knn = knn.predict(X_test)\n",
        "\n",
        "# Decision Tree Model\n",
        "tree = DecisionTreeRegressor(random_state=42)\n",
        "tree.fit(X_train, y_train)\n",
        "y_pred_tree = tree.predict(X_test)"
      ],
      "metadata": {
        "id": "ucG6TfSfZkVD"
      },
      "execution_count": 4,
      "outputs": []
    },
    {
      "cell_type": "code",
      "source": [
        "# K-NN\n",
        "mse_knn = mean_squared_error(y_test, y_pred_knn)\n",
        "rmse_knn = np.sqrt(mse_knn)\n",
        "r2_knn = r2_score(y_test, y_pred_knn)\n",
        "\n",
        "# Decision Tree\n",
        "mse_tree = mean_squared_error(y_test, y_pred_tree)\n",
        "rmse_tree = np.sqrt(mse_tree)\n",
        "r2_tree = r2_score(y_test, y_pred_tree)\n",
        "\n",
        "# Tampilkan hasil\n",
        "results = pd.DataFrame({\n",
        "    'Model': ['K-NN', 'Decision Tree'],\n",
        "    'MSE': [mse_knn, mse_tree],\n",
        "    'RMSE': [rmse_knn, rmse_tree],\n",
        "    'R² Score': [r2_knn, r2_tree]\n",
        "})"
      ],
      "metadata": {
        "id": "VikBijYKaZUs"
      },
      "execution_count": 6,
      "outputs": []
    },
    {
      "cell_type": "code",
      "source": [
        "# Output K-NN\n",
        "print(\"K-Nearest Neighbors (K-NN) Results:\")\n",
        "print(f\"MSE : {mse_knn:.4f}\")\n",
        "print(f\"RMSE: {rmse_knn:.4f}\")\n",
        "print(f\"R²  : {r2_knn:.4f}\\n\")\n",
        "\n",
        "# Output Decision Tree\n",
        "print(\"Decision Tree Results:\")\n",
        "print(f\"MSE : {mse_tree:.4f}\")\n",
        "print(f\"RMSE: {rmse_tree:.4f}\")\n",
        "print(f\"R²  : {r2_tree:.4f}\")"
      ],
      "metadata": {
        "colab": {
          "base_uri": "https://localhost:8080/"
        },
        "id": "NoWodERBa7HT",
        "outputId": "30018ddc-2451-47ce-d618-44c8d93a3836"
      },
      "execution_count": 7,
      "outputs": [
        {
          "output_type": "stream",
          "name": "stdout",
          "text": [
            "K-Nearest Neighbors (K-NN) Results:\n",
            "MSE : 0.0955\n",
            "RMSE: 0.3091\n",
            "R²  : 0.5464\n",
            "\n",
            "Decision Tree Results:\n",
            "MSE : 0.1136\n",
            "RMSE: 0.3371\n",
            "R²  : 0.4604\n"
          ]
        }
      ]
    },
    {
      "cell_type": "markdown",
      "source": [
        "### 📐 Mean Squared Error (MSE)\n",
        "\n",
        "MSE (Mean Squared Error) adalah rata-rata dari kuadrat selisih antara nilai prediksi dan nilai aktual.\n",
        "\n",
        "Rumus:\n",
        "\n",
        "    MSE = (1 / n) * Σ (yᵢ - ŷᵢ)²\n",
        "\n",
        "Keterangan:\n",
        "- yᵢ : nilai aktual ke-i\n",
        "- ŷᵢ : nilai prediksi ke-i\n",
        "- n  : jumlah sampel\n",
        "\n",
        "Semakin kecil nilai MSE, semakin baik model karena menunjukkan bahwa prediksi semakin mendekati nilai aktual.\n"
      ],
      "metadata": {
        "id": "DOF4K5RobaiH"
      }
    },
    {
      "cell_type": "markdown",
      "source": [
        "### 📐 Root Mean Squared Error (RMSE)\n",
        "\n",
        "RMSE adalah akar dari Mean Squared Error. RMSE digunakan untuk mengetahui seberapa jauh prediksi model dari nilai aktual dalam satuan yang sama dengan target aslinya.\n",
        "\n",
        "Rumus:\n",
        "\n",
        "    RMSE = √( (1 / n) * Σ (yᵢ - ŷᵢ)² )\n",
        "\n",
        "Keterangan:\n",
        "- yᵢ : nilai aktual ke-i\n",
        "- ŷᵢ : nilai prediksi ke-i\n",
        "- n  : jumlah sampel\n",
        "\n",
        "Semakin kecil nilai RMSE, semakin kecil kesalahan prediksi, dan semakin baik model.\n"
      ],
      "metadata": {
        "id": "tDudymMkcIZj"
      }
    },
    {
      "cell_type": "markdown",
      "source": [
        "### 📐 R² Score (Koefisien Determinasi)\n",
        "\n",
        "R² Score mengukur seberapa baik model menjelaskan variabilitas dari data target. Nilainya berada antara 0 dan 1.\n",
        "\n",
        "Rumus:\n",
        "\n",
        "    R² = 1 - ( Σ (yᵢ - ŷᵢ)² ) / ( Σ (yᵢ - ȳ)² )\n",
        "\n",
        "Keterangan:\n",
        "- yᵢ : nilai aktual ke-i\n",
        "- ŷᵢ : nilai prediksi ke-i\n",
        "- ȳ  : rata-rata nilai aktual\n",
        "- Semakin mendekati 1 → model semakin baik dalam menjelaskan variansi data.\n",
        "- R² = 1 artinya prediksi sempurna.\n"
      ],
      "metadata": {
        "id": "hczwp2gkdoOk"
      }
    }
  ]
}